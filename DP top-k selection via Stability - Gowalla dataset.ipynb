{
 "cells": [
  {
   "cell_type": "markdown",
   "metadata": {},
   "source": [
    "# Differentially Private Top-$k$ selection\n",
    "\n",
    "This notebook is part of the supplementary material for the following paper:\n",
    "- **Title**: \"Differentially Private Top-$k$ Selection via Stability on Unknown Domain\"\n",
    "- **Authors**: Ricardo Silva Carvalho, Ke Wang, Lovedeep Gondara, Miao Chun Yan\n",
    "- **Venue**: 36th Conference on Uncertainty in Artificial Intelligence (UAI), 2020\n",
    "- **URL**: To be added.\n",
    "\n",
    "For contact, feel free to reach out to \"ricardosc\" at gmail dot com, or via [personal website](https://ricardocarvalhods.github.io/).\n",
    "\n",
    "---\n",
    "\n",
    "### Overview\n",
    "- **Goal**: Perform differentially private top-k selection of most visited venues for dataset with locations of users.\n",
    "- Private task selects locations/venues **without** compromising the privacy of users.\n",
    "- We test different settings of differential privacy parameters $\\varepsilon$ and $\\delta$.\n",
    "- We focus on unknown domain, i.e. we don't need info about complete domain and don't use any structural property from it.\n",
    "- Mainly our algorithm Top Stable (TS) uses stability, plus other techniques, to select elements, only looking at the top-$\\bar{k}$ for a given $\\bar{k} \\geq k$.\n",
    "- TS is compared with Limited Domain (LD) from [David Durfee and Ryan Rogers, NeurIPS 2019](https://arxiv.org/pdf/1905.04273.pdf) that also works on unknown domain.\n",
    "\n",
    "---\n",
    "\n",
    "### Dataset\n",
    "- Below we reproduce the results showed on the paper for:\n",
    "  - Dataset: **Gowalla**, publicly available at https://snap.stanford.edu/data/loc-gowalla.html.\n",
    "  - Gowalla is a location-based social networking website where users share their locations by checking-in.\n",
    "  - Reference: E. Cho, S. A. Myers, J. Leskovec. Friendship and Mobility: Friendship and Mobility: User Movement in Location-Based Social Networks ACM SIGKDD International Conference on Knowledge Discovery and Data Mining (KDD), 2011.\n",
    "\n",
    "---"
   ]
  },
  {
   "cell_type": "markdown",
   "metadata": {},
   "source": [
    "## Data loading and preprocessing"
   ]
  },
  {
   "cell_type": "markdown",
   "metadata": {},
   "source": [
    "**NOTE**:\n",
    "- Please download `loc-gowalla_totalCheckins.txt.gz` from https://snap.stanford.edu/data/loc-gowalla.html and include it on the `datasets` folder.\n",
    "- We could not include it on github, as the file is slightly larger than github's maximum file limit size."
   ]
  },
  {
   "cell_type": "code",
   "execution_count": 1,
   "metadata": {},
   "outputs": [],
   "source": [
    "import gzip\n",
    "import pandas as pd\n",
    "\n",
    "data_dir = \"./datasets/\"\n",
    "\n",
    "with gzip.open(data_dir + \"loc-gowalla_totalCheckins.txt.gz\") as f:\n",
    "    df = pd.read_csv(f, sep='\\t', header=None)\n",
    "\n",
    "df.columns = ['userid','timestamp','latitude','longitude','spotid']\n",
    "df = df.drop(['timestamp','latitude','longitude'], axis=1)\n",
    "df['val'] = 1\n",
    "df.drop_duplicates(inplace=True) \n",
    "\n",
    "nr_users = df['userid'].nunique()\n",
    "df = df.groupby(['spotid'], as_index=False)['val'].sum()\n",
    "\n",
    "usr_counts = df['val'].values\n",
    "usr_counts = usr_counts.astype('int32')\n",
    "usr_counts = usr_counts[usr_counts.argsort()[::-1]]"
   ]
  },
  {
   "cell_type": "markdown",
   "metadata": {},
   "source": [
    "## Experimental Evaluation"
   ]
  },
  {
   "cell_type": "code",
   "execution_count": 2,
   "metadata": {},
   "outputs": [],
   "source": [
    "import sys\n",
    "sys.path.append(\"./src/\")\n",
    "\n",
    "from experiment import run_experiment"
   ]
  },
  {
   "cell_type": "markdown",
   "metadata": {},
   "source": [
    "### Tabulated results for Gowalla dataset"
   ]
  },
  {
   "cell_type": "code",
   "execution_count": 3,
   "metadata": {},
   "outputs": [],
   "source": [
    "# Settings\n",
    "delta = 1/nr_users\n",
    "\n",
    "nr_trials = 2000\n",
    "eps_list = [0.4, 0.8, 1.0]\n",
    "k_list = [3, 10, 50]"
   ]
  },
  {
   "cell_type": "code",
   "execution_count": 4,
   "metadata": {},
   "outputs": [
    {
     "name": "stdout",
     "output_type": "stream",
     "text": [
      "\n",
      "- epsilon =  0.4\n",
      "\n",
      "k = 3\n",
      "TS = P: 0.973 | S: 0.975\n",
      "LD = P: 0.852 | S: 0.866\n",
      "\n",
      "k = 10\n",
      "TS = P: 1.000 | S: 1.000\n",
      "LD = P: 0.782 | S: 0.823\n",
      "\n",
      "k = 50\n",
      "TS = P: 0.203 | S: 0.385\n",
      "LD = P: 0.240 | S: 0.431\n",
      "\n",
      "- epsilon =  0.8\n",
      "\n",
      "k = 3\n",
      "TS = P: 1.000 | S: 1.000\n",
      "LD = P: 1.000 | S: 1.000\n",
      "\n",
      "k = 10\n",
      "TS = P: 1.000 | S: 1.000\n",
      "LD = P: 0.898 | S: 0.921\n",
      "\n",
      "k = 50\n",
      "TS = P: 0.401 | S: 0.591\n",
      "LD = P: 0.388 | S: 0.581\n",
      "\n",
      "- epsilon =  1.0\n",
      "\n",
      "k = 3\n",
      "TS = P: 1.000 | S: 1.000\n",
      "LD = P: 1.000 | S: 1.000\n",
      "\n",
      "k = 10\n",
      "TS = P: 1.000 | S: 1.000\n",
      "LD = P: 0.901 | S: 0.923\n",
      "\n",
      "k = 50\n",
      "TS = P: 0.444 | S: 0.631\n",
      "LD = P: 0.453 | S: 0.639\n"
     ]
    }
   ],
   "source": [
    "run_experiment(usr_counts, eps_list, k_list, delta, nr_trials)"
   ]
  },
  {
   "cell_type": "markdown",
   "metadata": {},
   "source": [
    "### Reproduction of Figure 1a:  Gowalla dataset, TS better than LD on \"stable range\""
   ]
  },
  {
   "cell_type": "code",
   "execution_count": 5,
   "metadata": {},
   "outputs": [],
   "source": [
    "nr_trials = 2000\n",
    "eps_list = [0.8]\n",
    "k_list = list(range(1,101))"
   ]
  },
  {
   "cell_type": "code",
   "execution_count": 6,
   "metadata": {},
   "outputs": [
    {
     "data": {
      "image/png": "[encoded data removed]",
      "text/plain": [
       "<Figure size 432x288 with 1 Axes>"
      ]
     },
     "metadata": {},
     "output_type": "display_data"
    }
   ],
   "source": [
    "run_experiment(usr_counts, eps_list, k_list, delta, nr_trials, verbose=False, show_plot=True)"
   ]
  }
 ],
 "metadata": {
  "kernelspec": {
   "display_name": "Python 3",
   "language": "python",
   "name": "python3"
  },
  "language_info": {
   "codemirror_mode": {
    "name": "ipython",
    "version": 3
   },
   "file_extension": ".py",
   "mimetype": "text/x-python",
   "name": "python",
   "nbconvert_exporter": "python",
   "pygments_lexer": "ipython3",
   "version": "3.6.3"
  }
 },
 "nbformat": 4,
 "nbformat_minor": 2
}
